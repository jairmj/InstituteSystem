{
 "cells": [
  {
   "cell_type": "markdown",
   "metadata": {},
   "source": [
    "<h1><center>PROYECTO 3</center></h1>\n",
    "<h1><center>Simulacion de un Instituto de Estudios</center></h1>\n",
    "\n",
    "\n",
    "![aula](https://ni.usembassy.gov/wp-content/uploads/sites/112/2016/01/university-105709-c-1140x684.jpg)\n",
    "\n",
    "Utilizando la metodología de la Programación Orientada a Objetos, vamos a crear algunos objetos reales (con muchas limitaciones!) pero que puede servir como punto de partida para constuir toda una institución educativa."
   ]
  },
  {
   "cell_type": "markdown",
   "metadata": {},
   "source": [
    "### Requerimientos del programa\n",
    "Todo lo que necesitamos para solucionar este proyecto a reflexionar bastante alrededor del problema que se quiere resolver y empezar a probar las diferentes soluciones hasta encontrar un diseño que permita solucionar el proyecto de forma eficiente.\n",
    "\n",
    "Se quiere simular una pequeña institucion con 30 estudiantes inscritos en una serie de cursos, con información de notas para luego poder sacar reportes de los alumnos matriculados, las notas obtenidas por curso y por alumno, etc.\n",
    "\n",
    "Para esto será necesario contruír dos clases que serán el punto de partida para poder simular nuestra institucion"
   ]
  },
  {
   "cell_type": "markdown",
   "metadata": {},
   "source": [
    "### *class Curso*\n",
    "La clase curso permitira crear un objeto `Curso` que nos permitira definir un curso a dictar en la institución con los siguientes campos a considerar.\n",
    "\n",
    "- nombre del curso\n",
    "- numero de creditos\n",
    "- notas (una lista de cuatro notas: practicas, evaluacion continua, parcial y final, por defecto 0, 0, 0, 0)\n",
    "- pesos de cada una de las notas (por defecto las cuarto notas tendran los mismos pesos porcentuales)\n",
    "- nota promedio del curso\n",
    "- aula donde se dicta el curso\n",
    "    \n",
    "De esta forma, por ejemplo, si se quiere crear el objeto Curso \"Curso de Programación\" con 4 creditos y pesos PC=15, EC=10, EA=30, EB=45, AULA=\"A102\", se tendrá la siguiente instruccion:\n",
    "\n",
    "    curso1 = Curso(\"Curso de Programacion\", 4, [15, 10, 30, 45], \"A102\")"
   ]
  },
  {
   "cell_type": "markdown",
   "metadata": {},
   "source": [
    "### *class Estudiante*\n",
    "La clase Estudiante permitirá crear un objeto `Estudiante` que nos permitirá definir un estudiante inscrito en la institución con los siguientes campos a considerar:\n",
    "\n",
    "- nombres del estudiante\n",
    "- apellidos del estudiante\n",
    "- edad del estudiante\n",
    "- codigo del estudiante (este debe de generarse de forma aleatoria con el formato 'a' + (7 digitos aleatorios)\n",
    "- cursos (una lista de cursos, por defecto una lista vacía)\n",
    "\n",
    "De esta forma, por ejemplo, si se quiere crear un objeto Estudiante con los datos NOMBRE Y APELLIDO=\"Susana Oria\", EDAD=20 se tendrá la siguiente instrucción:\n",
    "\n",
    "    alumno1 = Estudiante(\"Susana\", \"Oria\", 20)\n",
    "\n",
    "El objeto alumno1 deberá tener la propiedad codigo ya asignada, de forma tal que si se ejecuta la instrucción:\n",
    "\n",
    "    alumno1.codigo\n",
    "    \n",
    "Esto devolverá un código de estudiante según el formato especificado.\n"
   ]
  },
  {
   "cell_type": "markdown",
   "metadata": {},
   "source": [
    "### Uniendo todos los elementos\n",
    "Se tiene el archivo `cursos.csv` que contiene un listado de los cursos a dictarse en el presente ciclo, con el formato:\n",
    "\n",
    "    NOMBRE, CREDITOS, %PC, %EC, %EA, %EB\n",
    "\n",
    "Partiendo de este archivo se pueden crear todos los cursos utilizando la clase Curso. Una vez que se tenga esto, se debe de crear un conjunto de 30 alumnos partiendo de dos listas de nombres y apellidos que serán combinadas de forma aletoria para generar 30 conjuntos \"nombre\", \"apellido\" con lo que podrán generar los 30 alumnos.\n",
    "\n",
    "NOTA: Revise el material blended de la semana 09 sobre lectura y escritura de archivos .CSV\n",
    "\n",
    "Almacene tanto los cursos como los alumnos en dos listas separadas (una lista con todos los objetos Curso y una lista con todos los objetos alumnos).\n",
    "\n",
    "A continuación, deberá escoger 4 cursos para cada alumno de forma aleatoria pero sin repetir los cursos (un estudiante no puede llevar dos veces el mismo curso) de tal manera que tenga en, al finalizar, la lista de 30 alumnos, cada uno con la propiedad `cursos` con una lista de 4 elementos (los objetos Curso).\n",
    "\n",
    "Luego, genere notas aleatotrias para todos los alumnos. Deberá tener métodos en la clase Curso donde podrá asignar las notas de un curso (la lista con las 4 notas) de la forma:\n",
    "\n",
    "    lista_alumnos[i].cursos[j].asigna_pc(14)    # Asignando 14 a la nota PC del i-esimo alumno en un j-esima nota \n",
    "                                                  (j=1 para PC)\n",
    "    \n",
    "Cuando halla termindo, debe de tener un listado con todos los alumnos y la información de cada uno de ellos.\n",
    "\n",
    "### Reportes\n",
    "Escriba un Script que muestre la siguiente informacion:\n",
    "\n",
    "    SISTEMA DE REPORTES EDUCATIVOS\n",
    "    ==============================\n",
    "    1. Listado de alumnos\n",
    "    2. Reporte por alumno\n",
    "    3. Reporte por curso\n",
    "    0. Salir\n",
    "    \n",
    "#### OPCION 1\n",
    "En la opcion 1 se mostrara un lista de los 30 alumnos con el siguiente encabezado\n",
    "\n",
    "    NOMBRE      APELLIDO        CODIGO       EDAD\n",
    "    ------------------------------------------------\n",
    "    \n",
    "#### OPCION 2    \n",
    "En la opcion 2 se debe de pedir la siguiente información (se muestra ejemplo):\n",
    "\n",
    "    Ingrese nombre o apellido del alumno: Alan\n",
    "    \n",
    "    Nombre: Alan Gallardo\n",
    "    Codigo: a8765374\n",
    "    Edad: 21\n",
    "    \n",
    "    CURSO                   PC     EC      EA      EB     PROM\n",
    "    ------------------------------------------------------------\n",
    "    Lenguaje I              12     10       9      16      ???    <-- EL PROMEDIO SEGUN LOS PESOS DE CADA NOTA\n",
    "    Matematica I            14      8      11      12      ???\n",
    "    Fisica I                 7     12      10      15      ???\n",
    "    Etica y Cuidadania      12     11      10       6      ???\n",
    "    \n",
    "o puede indicar:\n",
    "\n",
    "    El alumno ingresado no existe\n",
    "    \n",
    "#### OPCION 3    \n",
    "En la opcion 3 se debe de pedir la siguiente información (se muestra un ejemplo):\n",
    "\n",
    "    Ingrese el nombre del curso: Fisica\n",
    "    \n",
    "    Curso :Fisica I\n",
    "    Creditos: 5\n",
    "    Aula: A104\n",
    "    \n",
    "    ALUMNO                 PC     EC     EA     EB       PROM\n",
    "    ------------------------------------------------------------\n",
    "    Alan Gallardo           7     12     10     15       ????\n",
    "    .\n",
    "    .\n",
    "    .\n",
    "    \n",
    "o puede indicar:\n",
    "\n",
    "    El curso ingresado no existe\n",
    "    \n",
    "#### OTRAS OPCIONES\n",
    "En la opcion 0 debe de salir del sistema.\n",
    "\n",
    "En caso se ingrese una opcion invalida, debe mostrar el mensaje \"La opcion ingresada no es valida\""
   ]
  },
  {
   "cell_type": "markdown",
   "metadata": {},
   "source": [
    "### SOLUCION"
   ]
  },
  {
   "cell_type": "code",
   "execution_count": 4,
   "metadata": {},
   "outputs": [],
   "source": [
    "# DEFINA LAS CLASES, DOCUMENTADAS DE FORMA CORRECTA (docstring)\n",
    "\n",
    "\n",
    "\n",
    "# ESCRIBA SU PROGRAMA EN ESTA SECCION BAJO LA FUNCION MAIN()\n",
    "# ESTE PROGRAMA GENERA LOS OBJETOS A PARTIR DE LAS CLASES Y GENERA LOS DATOS\n",
    "# Y EL SISTEMA DE REPORTES\n",
    "def main():\n",
    "   pass  #borre este comando antes de colocar sus instrucciones\n"
   ]
  },
  {
   "cell_type": "code",
   "execution_count": 5,
   "metadata": {},
   "outputs": [],
   "source": [
    "# Se llama a la solucion para hacer las pruebas de los diferentes reportes\n",
    "main()\n"
   ]
  },
  {
   "cell_type": "markdown",
   "metadata": {},
   "source": [
    "### Rubrica de evaluación\n",
    "\n",
    "| Descripcion                                                            | Ptos  | N1 | N2 | N3 | RESULTADO |\n",
    "|------------------------------------------------------------------------|-------|----|----|----|-----------|\n",
    "| Presenta un código ordenado y legible                                  | 4 | 0 | 2 | 4 |\n",
    "| Diseña las clases y las escribe de forma correcta                      | 4 | 0 | 2 | 4 |\n",
    "| Usa @property y @var.setter para proteger las propiedades              | 4 | 0 | 2 | 4 |\n",
    "| Define los metodos mas adecuados para la solución del problema         | 4 | 0 | 2 | 4 |\n",
    "| Obtiene un sistema de reportes funcional de acuerdo a lo especificado  | 4 | 0 | 2 | 4 |\n",
    "\n",
    "NOTA:\n",
    "\n",
    "##### Leyenda\n",
    "    N1: No cumple\n",
    "    N2: En desarrollo\n",
    "    N3: Cumple con el requerimiento"
   ]
  }
 ],
 "metadata": {
  "anaconda-cloud": {},
  "kernelspec": {
   "display_name": "Python 3",
   "language": "python",
   "name": "python3"
  },
  "language_info": {
   "codemirror_mode": {
    "name": "ipython",
    "version": 3
   },
   "file_extension": ".py",
   "mimetype": "text/x-python",
   "name": "python",
   "nbconvert_exporter": "python",
   "pygments_lexer": "ipython3",
   "version": "3.7.1"
  }
 },
 "nbformat": 4,
 "nbformat_minor": 1
}
